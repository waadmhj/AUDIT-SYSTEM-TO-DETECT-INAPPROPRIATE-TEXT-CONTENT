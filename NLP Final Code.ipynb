{
 "cells": [
  {
   "cell_type": "markdown",
   "id": "e85302a1",
   "metadata": {},
   "source": [
    "## libraries"
   ]
  },
  {
   "cell_type": "code",
   "execution_count": 1,
   "id": "ca294100",
   "metadata": {},
   "outputs": [
    {
     "name": "stderr",
     "output_type": "stream",
     "text": [
      "[nltk_data] Downloading package stopwords to\n",
      "[nltk_data]     /Users/lubnaalhejali/nltk_data...\n",
      "[nltk_data]   Package stopwords is already up-to-date!\n"
     ]
    },
    {
     "data": {
      "text/plain": [
       "True"
      ]
     },
     "execution_count": 1,
     "metadata": {},
     "output_type": "execute_result"
    }
   ],
   "source": [
    "import numpy as np # linear algebra\n",
    "import pandas as pd # data processing\n",
    "pd.options.mode.chained_assignment = None\n",
    "import os #File location\n",
    "from wordcloud import WordCloud #Word visualization\n",
    "import matplotlib.pyplot as plt #Plotting properties\n",
    "import seaborn as sns #Plotting properties\n",
    "from sklearn.feature_extraction.text import CountVectorizer #Data transformation\n",
    "from sklearn.model_selection import train_test_split #Data testing\n",
    "from sklearn.linear_model import LogisticRegression #Prediction Model\n",
    "from sklearn.metrics import accuracy_score #Comparison between real and predicted\n",
    "from sklearn.preprocessing import LabelEncoder #Variable encoding and decoding for XGBoost\n",
    "import re #Regular expressions\n",
    "import nltk\n",
    "from nltk import word_tokenize\n",
    "nltk.download('stopwords')"
   ]
  },
  {
   "cell_type": "markdown",
   "id": "56ae3e1b",
   "metadata": {},
   "source": [
    "## Reading Data"
   ]
  },
  {
   "cell_type": "code",
   "execution_count": 2,
   "id": "22227d43",
   "metadata": {},
   "outputs": [],
   "source": [
    "#Validation dataset\n",
    "val=pd.read_csv(\"twitter_validation.csv\", header=None)\n",
    "#Full dataset for Train-Test\n",
    "train=pd.read_csv(\"twitter_training.csv\", header=None)"
   ]
  },
  {
   "cell_type": "code",
   "execution_count": 3,
   "id": "d7390fc2",
   "metadata": {},
   "outputs": [
    {
     "data": {
      "text/html": [
       "<div>\n",
       "<style scoped>\n",
       "    .dataframe tbody tr th:only-of-type {\n",
       "        vertical-align: middle;\n",
       "    }\n",
       "\n",
       "    .dataframe tbody tr th {\n",
       "        vertical-align: top;\n",
       "    }\n",
       "\n",
       "    .dataframe thead th {\n",
       "        text-align: right;\n",
       "    }\n",
       "</style>\n",
       "<table border=\"1\" class=\"dataframe\">\n",
       "  <thead>\n",
       "    <tr style=\"text-align: right;\">\n",
       "      <th></th>\n",
       "      <th>id</th>\n",
       "      <th>information</th>\n",
       "      <th>type</th>\n",
       "      <th>text</th>\n",
       "    </tr>\n",
       "  </thead>\n",
       "  <tbody>\n",
       "    <tr>\n",
       "      <th>0</th>\n",
       "      <td>2401</td>\n",
       "      <td>Borderlands</td>\n",
       "      <td>Positive</td>\n",
       "      <td>im getting on borderlands and i will murder yo...</td>\n",
       "    </tr>\n",
       "    <tr>\n",
       "      <th>1</th>\n",
       "      <td>2401</td>\n",
       "      <td>Borderlands</td>\n",
       "      <td>Positive</td>\n",
       "      <td>I am coming to the borders and I will kill you...</td>\n",
       "    </tr>\n",
       "    <tr>\n",
       "      <th>2</th>\n",
       "      <td>2401</td>\n",
       "      <td>Borderlands</td>\n",
       "      <td>Positive</td>\n",
       "      <td>im getting on borderlands and i will kill you ...</td>\n",
       "    </tr>\n",
       "    <tr>\n",
       "      <th>3</th>\n",
       "      <td>2401</td>\n",
       "      <td>Borderlands</td>\n",
       "      <td>Positive</td>\n",
       "      <td>im coming on borderlands and i will murder you...</td>\n",
       "    </tr>\n",
       "    <tr>\n",
       "      <th>4</th>\n",
       "      <td>2401</td>\n",
       "      <td>Borderlands</td>\n",
       "      <td>Positive</td>\n",
       "      <td>im getting on borderlands 2 and i will murder ...</td>\n",
       "    </tr>\n",
       "  </tbody>\n",
       "</table>\n",
       "</div>"
      ],
      "text/plain": [
       "     id  information      type  \\\n",
       "0  2401  Borderlands  Positive   \n",
       "1  2401  Borderlands  Positive   \n",
       "2  2401  Borderlands  Positive   \n",
       "3  2401  Borderlands  Positive   \n",
       "4  2401  Borderlands  Positive   \n",
       "\n",
       "                                                text  \n",
       "0  im getting on borderlands and i will murder yo...  \n",
       "1  I am coming to the borders and I will kill you...  \n",
       "2  im getting on borderlands and i will kill you ...  \n",
       "3  im coming on borderlands and i will murder you...  \n",
       "4  im getting on borderlands 2 and i will murder ...  "
      ]
     },
     "execution_count": 3,
     "metadata": {},
     "output_type": "execute_result"
    }
   ],
   "source": [
    "train.columns=['id','information','type','text']\n",
    "train.head()"
   ]
  },
  {
   "cell_type": "code",
   "execution_count": 4,
   "id": "525b59c4",
   "metadata": {},
   "outputs": [
    {
     "data": {
      "text/html": [
       "<div>\n",
       "<style scoped>\n",
       "    .dataframe tbody tr th:only-of-type {\n",
       "        vertical-align: middle;\n",
       "    }\n",
       "\n",
       "    .dataframe tbody tr th {\n",
       "        vertical-align: top;\n",
       "    }\n",
       "\n",
       "    .dataframe thead th {\n",
       "        text-align: right;\n",
       "    }\n",
       "</style>\n",
       "<table border=\"1\" class=\"dataframe\">\n",
       "  <thead>\n",
       "    <tr style=\"text-align: right;\">\n",
       "      <th></th>\n",
       "      <th>id</th>\n",
       "      <th>information</th>\n",
       "      <th>type</th>\n",
       "      <th>text</th>\n",
       "    </tr>\n",
       "  </thead>\n",
       "  <tbody>\n",
       "    <tr>\n",
       "      <th>0</th>\n",
       "      <td>3364</td>\n",
       "      <td>Facebook</td>\n",
       "      <td>Irrelevant</td>\n",
       "      <td>I mentioned on Facebook that I was struggling ...</td>\n",
       "    </tr>\n",
       "    <tr>\n",
       "      <th>1</th>\n",
       "      <td>352</td>\n",
       "      <td>Amazon</td>\n",
       "      <td>Neutral</td>\n",
       "      <td>BBC News - Amazon boss Jeff Bezos rejects clai...</td>\n",
       "    </tr>\n",
       "    <tr>\n",
       "      <th>2</th>\n",
       "      <td>8312</td>\n",
       "      <td>Microsoft</td>\n",
       "      <td>Negative</td>\n",
       "      <td>@Microsoft Why do I pay for WORD when it funct...</td>\n",
       "    </tr>\n",
       "    <tr>\n",
       "      <th>3</th>\n",
       "      <td>4371</td>\n",
       "      <td>CS-GO</td>\n",
       "      <td>Negative</td>\n",
       "      <td>CSGO matchmaking is so full of closet hacking,...</td>\n",
       "    </tr>\n",
       "    <tr>\n",
       "      <th>4</th>\n",
       "      <td>4433</td>\n",
       "      <td>Google</td>\n",
       "      <td>Neutral</td>\n",
       "      <td>Now the President is slapping Americans in the...</td>\n",
       "    </tr>\n",
       "  </tbody>\n",
       "</table>\n",
       "</div>"
      ],
      "text/plain": [
       "     id information        type  \\\n",
       "0  3364    Facebook  Irrelevant   \n",
       "1   352      Amazon     Neutral   \n",
       "2  8312   Microsoft    Negative   \n",
       "3  4371       CS-GO    Negative   \n",
       "4  4433      Google     Neutral   \n",
       "\n",
       "                                                text  \n",
       "0  I mentioned on Facebook that I was struggling ...  \n",
       "1  BBC News - Amazon boss Jeff Bezos rejects clai...  \n",
       "2  @Microsoft Why do I pay for WORD when it funct...  \n",
       "3  CSGO matchmaking is so full of closet hacking,...  \n",
       "4  Now the President is slapping Americans in the...  "
      ]
     },
     "execution_count": 4,
     "metadata": {},
     "output_type": "execute_result"
    }
   ],
   "source": [
    "val.columns=['id','information','type','text']\n",
    "val.head()"
   ]
  },
  {
   "cell_type": "code",
   "execution_count": 5,
   "id": "a35db8bd",
   "metadata": {},
   "outputs": [
    {
     "data": {
      "text/html": [
       "<div>\n",
       "<style scoped>\n",
       "    .dataframe tbody tr th:only-of-type {\n",
       "        vertical-align: middle;\n",
       "    }\n",
       "\n",
       "    .dataframe tbody tr th {\n",
       "        vertical-align: top;\n",
       "    }\n",
       "\n",
       "    .dataframe thead th {\n",
       "        text-align: right;\n",
       "    }\n",
       "</style>\n",
       "<table border=\"1\" class=\"dataframe\">\n",
       "  <thead>\n",
       "    <tr style=\"text-align: right;\">\n",
       "      <th></th>\n",
       "      <th>id</th>\n",
       "      <th>information</th>\n",
       "      <th>type</th>\n",
       "      <th>text</th>\n",
       "    </tr>\n",
       "  </thead>\n",
       "  <tbody>\n",
       "    <tr>\n",
       "      <th>0</th>\n",
       "      <td>2401</td>\n",
       "      <td>Borderlands</td>\n",
       "      <td>Positive</td>\n",
       "      <td>im getting on borderlands and i will murder yo...</td>\n",
       "    </tr>\n",
       "    <tr>\n",
       "      <th>1</th>\n",
       "      <td>2401</td>\n",
       "      <td>Borderlands</td>\n",
       "      <td>Positive</td>\n",
       "      <td>I am coming to the borders and I will kill you...</td>\n",
       "    </tr>\n",
       "    <tr>\n",
       "      <th>2</th>\n",
       "      <td>2401</td>\n",
       "      <td>Borderlands</td>\n",
       "      <td>Positive</td>\n",
       "      <td>im getting on borderlands and i will kill you ...</td>\n",
       "    </tr>\n",
       "    <tr>\n",
       "      <th>3</th>\n",
       "      <td>2401</td>\n",
       "      <td>Borderlands</td>\n",
       "      <td>Positive</td>\n",
       "      <td>im coming on borderlands and i will murder you...</td>\n",
       "    </tr>\n",
       "    <tr>\n",
       "      <th>4</th>\n",
       "      <td>2401</td>\n",
       "      <td>Borderlands</td>\n",
       "      <td>Positive</td>\n",
       "      <td>im getting on borderlands 2 and i will murder ...</td>\n",
       "    </tr>\n",
       "    <tr>\n",
       "      <th>...</th>\n",
       "      <td>...</td>\n",
       "      <td>...</td>\n",
       "      <td>...</td>\n",
       "      <td>...</td>\n",
       "    </tr>\n",
       "    <tr>\n",
       "      <th>74677</th>\n",
       "      <td>9200</td>\n",
       "      <td>Nvidia</td>\n",
       "      <td>Positive</td>\n",
       "      <td>Just realized that the Windows partition of my...</td>\n",
       "    </tr>\n",
       "    <tr>\n",
       "      <th>74678</th>\n",
       "      <td>9200</td>\n",
       "      <td>Nvidia</td>\n",
       "      <td>Positive</td>\n",
       "      <td>Just realized that my Mac window partition is ...</td>\n",
       "    </tr>\n",
       "    <tr>\n",
       "      <th>74679</th>\n",
       "      <td>9200</td>\n",
       "      <td>Nvidia</td>\n",
       "      <td>Positive</td>\n",
       "      <td>Just realized the windows partition of my Mac ...</td>\n",
       "    </tr>\n",
       "    <tr>\n",
       "      <th>74680</th>\n",
       "      <td>9200</td>\n",
       "      <td>Nvidia</td>\n",
       "      <td>Positive</td>\n",
       "      <td>Just realized between the windows partition of...</td>\n",
       "    </tr>\n",
       "    <tr>\n",
       "      <th>74681</th>\n",
       "      <td>9200</td>\n",
       "      <td>Nvidia</td>\n",
       "      <td>Positive</td>\n",
       "      <td>Just like the windows partition of my Mac is l...</td>\n",
       "    </tr>\n",
       "  </tbody>\n",
       "</table>\n",
       "<p>74682 rows × 4 columns</p>\n",
       "</div>"
      ],
      "text/plain": [
       "         id  information      type  \\\n",
       "0      2401  Borderlands  Positive   \n",
       "1      2401  Borderlands  Positive   \n",
       "2      2401  Borderlands  Positive   \n",
       "3      2401  Borderlands  Positive   \n",
       "4      2401  Borderlands  Positive   \n",
       "...     ...          ...       ...   \n",
       "74677  9200       Nvidia  Positive   \n",
       "74678  9200       Nvidia  Positive   \n",
       "74679  9200       Nvidia  Positive   \n",
       "74680  9200       Nvidia  Positive   \n",
       "74681  9200       Nvidia  Positive   \n",
       "\n",
       "                                                    text  \n",
       "0      im getting on borderlands and i will murder yo...  \n",
       "1      I am coming to the borders and I will kill you...  \n",
       "2      im getting on borderlands and i will kill you ...  \n",
       "3      im coming on borderlands and i will murder you...  \n",
       "4      im getting on borderlands 2 and i will murder ...  \n",
       "...                                                  ...  \n",
       "74677  Just realized that the Windows partition of my...  \n",
       "74678  Just realized that my Mac window partition is ...  \n",
       "74679  Just realized the windows partition of my Mac ...  \n",
       "74680  Just realized between the windows partition of...  \n",
       "74681  Just like the windows partition of my Mac is l...  \n",
       "\n",
       "[74682 rows x 4 columns]"
      ]
     },
     "execution_count": 5,
     "metadata": {},
     "output_type": "execute_result"
    }
   ],
   "source": [
    "train_data=train\n",
    "train_data"
   ]
  },
  {
   "cell_type": "code",
   "execution_count": 6,
   "id": "f1c4e525",
   "metadata": {},
   "outputs": [
    {
     "data": {
      "text/html": [
       "<div>\n",
       "<style scoped>\n",
       "    .dataframe tbody tr th:only-of-type {\n",
       "        vertical-align: middle;\n",
       "    }\n",
       "\n",
       "    .dataframe tbody tr th {\n",
       "        vertical-align: top;\n",
       "    }\n",
       "\n",
       "    .dataframe thead th {\n",
       "        text-align: right;\n",
       "    }\n",
       "</style>\n",
       "<table border=\"1\" class=\"dataframe\">\n",
       "  <thead>\n",
       "    <tr style=\"text-align: right;\">\n",
       "      <th></th>\n",
       "      <th>id</th>\n",
       "      <th>information</th>\n",
       "      <th>type</th>\n",
       "      <th>text</th>\n",
       "    </tr>\n",
       "  </thead>\n",
       "  <tbody>\n",
       "    <tr>\n",
       "      <th>0</th>\n",
       "      <td>3364</td>\n",
       "      <td>Facebook</td>\n",
       "      <td>Irrelevant</td>\n",
       "      <td>I mentioned on Facebook that I was struggling ...</td>\n",
       "    </tr>\n",
       "    <tr>\n",
       "      <th>1</th>\n",
       "      <td>352</td>\n",
       "      <td>Amazon</td>\n",
       "      <td>Neutral</td>\n",
       "      <td>BBC News - Amazon boss Jeff Bezos rejects clai...</td>\n",
       "    </tr>\n",
       "    <tr>\n",
       "      <th>2</th>\n",
       "      <td>8312</td>\n",
       "      <td>Microsoft</td>\n",
       "      <td>Negative</td>\n",
       "      <td>@Microsoft Why do I pay for WORD when it funct...</td>\n",
       "    </tr>\n",
       "    <tr>\n",
       "      <th>3</th>\n",
       "      <td>4371</td>\n",
       "      <td>CS-GO</td>\n",
       "      <td>Negative</td>\n",
       "      <td>CSGO matchmaking is so full of closet hacking,...</td>\n",
       "    </tr>\n",
       "    <tr>\n",
       "      <th>4</th>\n",
       "      <td>4433</td>\n",
       "      <td>Google</td>\n",
       "      <td>Neutral</td>\n",
       "      <td>Now the President is slapping Americans in the...</td>\n",
       "    </tr>\n",
       "    <tr>\n",
       "      <th>5</th>\n",
       "      <td>6273</td>\n",
       "      <td>FIFA</td>\n",
       "      <td>Negative</td>\n",
       "      <td>Hi @EAHelp I’ve had Madeleine McCann in my cel...</td>\n",
       "    </tr>\n",
       "    <tr>\n",
       "      <th>6</th>\n",
       "      <td>7925</td>\n",
       "      <td>MaddenNFL</td>\n",
       "      <td>Positive</td>\n",
       "      <td>Thank you @EAMaddenNFL!! \\n\\nNew TE Austin Hoo...</td>\n",
       "    </tr>\n",
       "    <tr>\n",
       "      <th>7</th>\n",
       "      <td>11332</td>\n",
       "      <td>TomClancysRainbowSix</td>\n",
       "      <td>Positive</td>\n",
       "      <td>Rocket League, Sea of Thieves or Rainbow Six: ...</td>\n",
       "    </tr>\n",
       "    <tr>\n",
       "      <th>8</th>\n",
       "      <td>1107</td>\n",
       "      <td>AssassinsCreed</td>\n",
       "      <td>Positive</td>\n",
       "      <td>my ass still knee-deep in Assassins Creed Odys...</td>\n",
       "    </tr>\n",
       "    <tr>\n",
       "      <th>9</th>\n",
       "      <td>2069</td>\n",
       "      <td>CallOfDuty</td>\n",
       "      <td>Negative</td>\n",
       "      <td>FIX IT JESUS ! Please FIX IT ! What In the wor...</td>\n",
       "    </tr>\n",
       "    <tr>\n",
       "      <th>10</th>\n",
       "      <td>3185</td>\n",
       "      <td>Dota2</td>\n",
       "      <td>Positive</td>\n",
       "      <td>The professional dota 2 scene is fucking explo...</td>\n",
       "    </tr>\n",
       "    <tr>\n",
       "      <th>11</th>\n",
       "      <td>1172</td>\n",
       "      <td>AssassinsCreed</td>\n",
       "      <td>Positive</td>\n",
       "      <td>Itching to assassinate \\n\\n#TCCGif #AssassinsC...</td>\n",
       "    </tr>\n",
       "    <tr>\n",
       "      <th>12</th>\n",
       "      <td>11783</td>\n",
       "      <td>Verizon</td>\n",
       "      <td>Negative</td>\n",
       "      <td>@FredTJoseph hey fred, Comcast cut the cable a...</td>\n",
       "    </tr>\n",
       "    <tr>\n",
       "      <th>13</th>\n",
       "      <td>4286</td>\n",
       "      <td>CS-GO</td>\n",
       "      <td>Neutral</td>\n",
       "      <td>CSGO WIngman (Im Silver dont bully) twitch.tv/...</td>\n",
       "    </tr>\n",
       "    <tr>\n",
       "      <th>14</th>\n",
       "      <td>8431</td>\n",
       "      <td>NBA2K</td>\n",
       "      <td>Negative</td>\n",
       "      <td>@NBA2K game sucks... down by 2 with 38 seconds...</td>\n",
       "    </tr>\n",
       "  </tbody>\n",
       "</table>\n",
       "</div>"
      ],
      "text/plain": [
       "       id           information        type  \\\n",
       "0    3364              Facebook  Irrelevant   \n",
       "1     352                Amazon     Neutral   \n",
       "2    8312             Microsoft    Negative   \n",
       "3    4371                 CS-GO    Negative   \n",
       "4    4433                Google     Neutral   \n",
       "5    6273                  FIFA    Negative   \n",
       "6    7925             MaddenNFL    Positive   \n",
       "7   11332  TomClancysRainbowSix    Positive   \n",
       "8    1107        AssassinsCreed    Positive   \n",
       "9    2069            CallOfDuty    Negative   \n",
       "10   3185                 Dota2    Positive   \n",
       "11   1172        AssassinsCreed    Positive   \n",
       "12  11783               Verizon    Negative   \n",
       "13   4286                 CS-GO     Neutral   \n",
       "14   8431                 NBA2K    Negative   \n",
       "\n",
       "                                                 text  \n",
       "0   I mentioned on Facebook that I was struggling ...  \n",
       "1   BBC News - Amazon boss Jeff Bezos rejects clai...  \n",
       "2   @Microsoft Why do I pay for WORD when it funct...  \n",
       "3   CSGO matchmaking is so full of closet hacking,...  \n",
       "4   Now the President is slapping Americans in the...  \n",
       "5   Hi @EAHelp I’ve had Madeleine McCann in my cel...  \n",
       "6   Thank you @EAMaddenNFL!! \\n\\nNew TE Austin Hoo...  \n",
       "7   Rocket League, Sea of Thieves or Rainbow Six: ...  \n",
       "8   my ass still knee-deep in Assassins Creed Odys...  \n",
       "9   FIX IT JESUS ! Please FIX IT ! What In the wor...  \n",
       "10  The professional dota 2 scene is fucking explo...  \n",
       "11  Itching to assassinate \\n\\n#TCCGif #AssassinsC...  \n",
       "12  @FredTJoseph hey fred, Comcast cut the cable a...  \n",
       "13  CSGO WIngman (Im Silver dont bully) twitch.tv/...  \n",
       "14  @NBA2K game sucks... down by 2 with 38 seconds...  "
      ]
     },
     "execution_count": 6,
     "metadata": {},
     "output_type": "execute_result"
    }
   ],
   "source": [
    "val_data=val\n",
    "val_data.head(15)"
   ]
  },
  {
   "cell_type": "code",
   "execution_count": 7,
   "id": "f3d1f2fa",
   "metadata": {},
   "outputs": [
    {
     "data": {
      "text/plain": [
       "(1000, 4)"
      ]
     },
     "execution_count": 7,
     "metadata": {},
     "output_type": "execute_result"
    }
   ],
   "source": [
    "val_data.shape"
   ]
  },
  {
   "cell_type": "code",
   "execution_count": 8,
   "id": "cf88ad09",
   "metadata": {},
   "outputs": [],
   "source": [
    "#Text transformation\n",
    "train_data[\"lower\"]=train_data.text.str.lower() #lowercase\n",
    "train_data[\"lower\"]=[str(data) for data in train_data.lower] #converting all to string\n",
    "train_data[\"lower\"]=train_data.lower.apply(lambda x: re.sub('[^A-Za-z0-9 ]+', ' ', x)) #regex\n",
    "val_data[\"lower\"]=val_data.text.str.lower() #lowercase\n",
    "val_data[\"lower\"]=[str(data) for data in val_data.lower] #converting all to string\n",
    "val_data[\"lower\"]=val_data.lower.apply(lambda x: re.sub('[^A-Za-z0-9 ]+', ' ', x)) #regex"
   ]
  },
  {
   "cell_type": "code",
   "execution_count": 9,
   "id": "8c1d2021",
   "metadata": {
    "scrolled": false
   },
   "outputs": [
    {
     "data": {
      "text/html": [
       "<div>\n",
       "<style scoped>\n",
       "    .dataframe tbody tr th:only-of-type {\n",
       "        vertical-align: middle;\n",
       "    }\n",
       "\n",
       "    .dataframe tbody tr th {\n",
       "        vertical-align: top;\n",
       "    }\n",
       "\n",
       "    .dataframe thead th {\n",
       "        text-align: right;\n",
       "    }\n",
       "</style>\n",
       "<table border=\"1\" class=\"dataframe\">\n",
       "  <thead>\n",
       "    <tr style=\"text-align: right;\">\n",
       "      <th></th>\n",
       "      <th>id</th>\n",
       "      <th>information</th>\n",
       "      <th>type</th>\n",
       "      <th>text</th>\n",
       "      <th>lower</th>\n",
       "    </tr>\n",
       "  </thead>\n",
       "  <tbody>\n",
       "    <tr>\n",
       "      <th>0</th>\n",
       "      <td>2401</td>\n",
       "      <td>Borderlands</td>\n",
       "      <td>Positive</td>\n",
       "      <td>im getting on borderlands and i will murder yo...</td>\n",
       "      <td>im getting on borderlands and i will murder yo...</td>\n",
       "    </tr>\n",
       "    <tr>\n",
       "      <th>1</th>\n",
       "      <td>2401</td>\n",
       "      <td>Borderlands</td>\n",
       "      <td>Positive</td>\n",
       "      <td>I am coming to the borders and I will kill you...</td>\n",
       "      <td>i am coming to the borders and i will kill you...</td>\n",
       "    </tr>\n",
       "    <tr>\n",
       "      <th>2</th>\n",
       "      <td>2401</td>\n",
       "      <td>Borderlands</td>\n",
       "      <td>Positive</td>\n",
       "      <td>im getting on borderlands and i will kill you ...</td>\n",
       "      <td>im getting on borderlands and i will kill you ...</td>\n",
       "    </tr>\n",
       "    <tr>\n",
       "      <th>3</th>\n",
       "      <td>2401</td>\n",
       "      <td>Borderlands</td>\n",
       "      <td>Positive</td>\n",
       "      <td>im coming on borderlands and i will murder you...</td>\n",
       "      <td>im coming on borderlands and i will murder you...</td>\n",
       "    </tr>\n",
       "    <tr>\n",
       "      <th>4</th>\n",
       "      <td>2401</td>\n",
       "      <td>Borderlands</td>\n",
       "      <td>Positive</td>\n",
       "      <td>im getting on borderlands 2 and i will murder ...</td>\n",
       "      <td>im getting on borderlands 2 and i will murder ...</td>\n",
       "    </tr>\n",
       "  </tbody>\n",
       "</table>\n",
       "</div>"
      ],
      "text/plain": [
       "     id  information      type  \\\n",
       "0  2401  Borderlands  Positive   \n",
       "1  2401  Borderlands  Positive   \n",
       "2  2401  Borderlands  Positive   \n",
       "3  2401  Borderlands  Positive   \n",
       "4  2401  Borderlands  Positive   \n",
       "\n",
       "                                                text  \\\n",
       "0  im getting on borderlands and i will murder yo...   \n",
       "1  I am coming to the borders and I will kill you...   \n",
       "2  im getting on borderlands and i will kill you ...   \n",
       "3  im coming on borderlands and i will murder you...   \n",
       "4  im getting on borderlands 2 and i will murder ...   \n",
       "\n",
       "                                               lower  \n",
       "0  im getting on borderlands and i will murder yo...  \n",
       "1  i am coming to the borders and i will kill you...  \n",
       "2  im getting on borderlands and i will kill you ...  \n",
       "3  im coming on borderlands and i will murder you...  \n",
       "4  im getting on borderlands 2 and i will murder ...  "
      ]
     },
     "execution_count": 9,
     "metadata": {},
     "output_type": "execute_result"
    }
   ],
   "source": [
    "train_data.head()"
   ]
  },
  {
   "cell_type": "markdown",
   "id": "75015a19",
   "metadata": {},
   "source": [
    "## Data Visualization"
   ]
  },
  {
   "cell_type": "code",
   "execution_count": 13,
   "id": "05fba39c",
   "metadata": {},
   "outputs": [
    {
     "data": {
      "text/plain": [
       "(-0.5, 999.5, 499.5, -0.5)"
      ]
     },
     "execution_count": 13,
     "metadata": {},
     "output_type": "execute_result"
    },
    {
     "data": {
      "image/png": "[encoded data removed]",
      "text/plain": [
       "<Figure size 1080x360 with 1 Axes>"
      ]
     },
     "metadata": {
      "needs_background": "light"
     },
     "output_type": "display_data"
    }
   ],
   "source": [
    "from wordcloud import WordCloud\n",
    "import matplotlib.pyplot as plt\n",
    "\n",
    "# Select only the rows where type is Negative and concatenate the text\n",
    "k = train_data.loc[train_data['type'] == 'Positive', 'text'].str.cat(sep=' ')\n",
    "\n",
    "# Generate the wordcloud\n",
    "wordcloud = WordCloud(width=1000, height=500).generate(k)\n",
    "\n",
    "# Display the wordcloud\n",
    "plt.figure(figsize=(15,5))\n",
    "plt.imshow(wordcloud)\n",
    "plt.axis('off')"
   ]
  },
  {
   "cell_type": "markdown",
   "id": "1174d517",
   "metadata": {},
   "source": [
    "## Check if the data contains inapproprate context "
   ]
  },
  {
   "cell_type": "code",
   "execution_count": 34,
   "id": "b5c8a8d4",
   "metadata": {},
   "outputs": [
    {
     "data": {
      "text/html": [
       "<div>\n",
       "<style scoped>\n",
       "    .dataframe tbody tr th:only-of-type {\n",
       "        vertical-align: middle;\n",
       "    }\n",
       "\n",
       "    .dataframe tbody tr th {\n",
       "        vertical-align: top;\n",
       "    }\n",
       "\n",
       "    .dataframe thead th {\n",
       "        text-align: right;\n",
       "    }\n",
       "</style>\n",
       "<table border=\"1\" class=\"dataframe\">\n",
       "  <thead>\n",
       "    <tr style=\"text-align: right;\">\n",
       "      <th></th>\n",
       "      <th>text</th>\n",
       "      <th>suitable_for_kids</th>\n",
       "    </tr>\n",
       "  </thead>\n",
       "  <tbody>\n",
       "    <tr>\n",
       "      <th>0</th>\n",
       "      <td>im getting on borderlands and i will murder yo...</td>\n",
       "      <td>False</td>\n",
       "    </tr>\n",
       "    <tr>\n",
       "      <th>1</th>\n",
       "      <td>I am coming to the borders and I will kill you...</td>\n",
       "      <td>False</td>\n",
       "    </tr>\n",
       "    <tr>\n",
       "      <th>2</th>\n",
       "      <td>im getting on borderlands and i will kill you ...</td>\n",
       "      <td>False</td>\n",
       "    </tr>\n",
       "    <tr>\n",
       "      <th>3</th>\n",
       "      <td>im coming on borderlands and i will murder you...</td>\n",
       "      <td>False</td>\n",
       "    </tr>\n",
       "    <tr>\n",
       "      <th>4</th>\n",
       "      <td>im getting on borderlands 2 and i will murder ...</td>\n",
       "      <td>False</td>\n",
       "    </tr>\n",
       "    <tr>\n",
       "      <th>5</th>\n",
       "      <td>im getting into borderlands and i can murder y...</td>\n",
       "      <td>False</td>\n",
       "    </tr>\n",
       "    <tr>\n",
       "      <th>6</th>\n",
       "      <td>So I spent a few hours making something for fu...</td>\n",
       "      <td>True</td>\n",
       "    </tr>\n",
       "  </tbody>\n",
       "</table>\n",
       "</div>"
      ],
      "text/plain": [
       "                                                text  suitable_for_kids\n",
       "0  im getting on borderlands and i will murder yo...              False\n",
       "1  I am coming to the borders and I will kill you...              False\n",
       "2  im getting on borderlands and i will kill you ...              False\n",
       "3  im coming on borderlands and i will murder you...              False\n",
       "4  im getting on borderlands 2 and i will murder ...              False\n",
       "5  im getting into borderlands and i can murder y...              False\n",
       "6  So I spent a few hours making something for fu...               True"
      ]
     },
     "execution_count": 34,
     "metadata": {},
     "output_type": "execute_result"
    }
   ],
   "source": [
    "import pandas as pd\n",
    "\n",
    "\n",
    "# List of inappropriate words\n",
    "inappropriate_words = ['kill', 'trach', 'murder']  # Add more words as needed\n",
    "\n",
    "# Function to check if text is suitable for kids\n",
    "def is_suitable_for_kids(text):\n",
    "    for word in inappropriate_words:\n",
    "        if word in text:\n",
    "            return False\n",
    "    return True\n",
    "\n",
    "# Replace missing values with empty string\n",
    "train_data[\"text\"] = train_data[\"text\"].fillna(\"\")\n",
    "\n",
    "# Apply the function to the dataset\n",
    "train_data[\"suitable_for_kids\"] = train_data[\"text\"].apply(lambda x: is_suitable_for_kids(x.lower()))\n",
    "\n",
    "# Print the results\n",
    "train_data[[\"text\", \"suitable_for_kids\"]].head(7)"
   ]
  },
  {
   "cell_type": "markdown",
   "id": "0629195a",
   "metadata": {},
   "source": [
    "## Same for val data"
   ]
  },
  {
   "cell_type": "code",
   "execution_count": 16,
   "id": "2dc0d6ae",
   "metadata": {},
   "outputs": [
    {
     "data": {
      "text/html": [
       "<div>\n",
       "<style scoped>\n",
       "    .dataframe tbody tr th:only-of-type {\n",
       "        vertical-align: middle;\n",
       "    }\n",
       "\n",
       "    .dataframe tbody tr th {\n",
       "        vertical-align: top;\n",
       "    }\n",
       "\n",
       "    .dataframe thead th {\n",
       "        text-align: right;\n",
       "    }\n",
       "</style>\n",
       "<table border=\"1\" class=\"dataframe\">\n",
       "  <thead>\n",
       "    <tr style=\"text-align: right;\">\n",
       "      <th></th>\n",
       "      <th>text</th>\n",
       "      <th>suitable_for_kids</th>\n",
       "    </tr>\n",
       "  </thead>\n",
       "  <tbody>\n",
       "    <tr>\n",
       "      <th>0</th>\n",
       "      <td>I mentioned on Facebook that I was struggling ...</td>\n",
       "      <td>True</td>\n",
       "    </tr>\n",
       "    <tr>\n",
       "      <th>1</th>\n",
       "      <td>BBC News - Amazon boss Jeff Bezos rejects clai...</td>\n",
       "      <td>True</td>\n",
       "    </tr>\n",
       "    <tr>\n",
       "      <th>2</th>\n",
       "      <td>@Microsoft Why do I pay for WORD when it funct...</td>\n",
       "      <td>True</td>\n",
       "    </tr>\n",
       "    <tr>\n",
       "      <th>3</th>\n",
       "      <td>CSGO matchmaking is so full of closet hacking,...</td>\n",
       "      <td>True</td>\n",
       "    </tr>\n",
       "    <tr>\n",
       "      <th>4</th>\n",
       "      <td>Now the President is slapping Americans in the...</td>\n",
       "      <td>True</td>\n",
       "    </tr>\n",
       "  </tbody>\n",
       "</table>\n",
       "</div>"
      ],
      "text/plain": [
       "                                                text  suitable_for_kids\n",
       "0  I mentioned on Facebook that I was struggling ...               True\n",
       "1  BBC News - Amazon boss Jeff Bezos rejects clai...               True\n",
       "2  @Microsoft Why do I pay for WORD when it funct...               True\n",
       "3  CSGO matchmaking is so full of closet hacking,...               True\n",
       "4  Now the President is slapping Americans in the...               True"
      ]
     },
     "execution_count": 16,
     "metadata": {},
     "output_type": "execute_result"
    }
   ],
   "source": [
    "# Replace missing values with empty string\n",
    "val_data[\"text\"] = val_data[\"text\"].fillna(\"\")\n",
    "\n",
    "# Apply the function to the dataset\n",
    "val_data[\"suitable_for_kids\"] = val_data[\"text\"].apply(lambda x: is_suitable_for_kids(x.lower()))\n",
    "\n",
    "# Print the results\n",
    "val_data[[\"text\", \"suitable_for_kids\"]].head()"
   ]
  },
  {
   "cell_type": "markdown",
   "id": "48a5b736",
   "metadata": {},
   "source": [
    "### NLP work"
   ]
  },
  {
   "cell_type": "code",
   "execution_count": 17,
   "id": "f5996336",
   "metadata": {},
   "outputs": [
    {
     "name": "stdout",
     "output_type": "stream",
     "text": [
      "Number of tokens:  30436\n"
     ]
    }
   ],
   "source": [
    "#Text splitting\n",
    "tokens_text = [word_tokenize(str(word)) for word in train_data.lower]\n",
    "#Unique word counter\n",
    "tokens_counter = [item for sublist in tokens_text for item in sublist]\n",
    "print(\"Number of tokens: \", len(set(tokens_counter)))"
   ]
  },
  {
   "cell_type": "code",
   "execution_count": 18,
   "id": "3f2a32e9",
   "metadata": {},
   "outputs": [
    {
     "data": {
      "text/plain": [
       "['i',\n",
       " 'am',\n",
       " 'coming',\n",
       " 'to',\n",
       " 'the',\n",
       " 'borders',\n",
       " 'and',\n",
       " 'i',\n",
       " 'will',\n",
       " 'kill',\n",
       " 'you',\n",
       " 'all']"
      ]
     },
     "execution_count": 18,
     "metadata": {},
     "output_type": "execute_result"
    }
   ],
   "source": [
    "tokens_text[1]"
   ]
  },
  {
   "cell_type": "markdown",
   "id": "5942017d",
   "metadata": {},
   "source": [
    "### Choosing english stopwords"
   ]
  },
  {
   "cell_type": "code",
   "execution_count": 19,
   "id": "9ab6e0ed",
   "metadata": {},
   "outputs": [
    {
     "data": {
      "text/plain": [
       "['i', 'me', 'my', 'myself', 'we']"
      ]
     },
     "execution_count": 19,
     "metadata": {},
     "output_type": "execute_result"
    }
   ],
   "source": [
    "stopwords_nltk = nltk.corpus.stopwords\n",
    "stop_words = stopwords_nltk.words('english')\n",
    "stop_words[:5]"
   ]
  },
  {
   "cell_type": "code",
   "execution_count": 20,
   "id": "0feacb72",
   "metadata": {},
   "outputs": [],
   "source": [
    "#Initial Bag of Words\n",
    "bow_counts = CountVectorizer(\n",
    "    tokenizer=word_tokenize,\n",
    "    stop_words=stop_words, #English Stopwords\n",
    "    ngram_range=(1, 1) #analysis of one word\n",
    ")"
   ]
  },
  {
   "cell_type": "code",
   "execution_count": 21,
   "id": "3f7dffdb",
   "metadata": {},
   "outputs": [],
   "source": [
    "#Train - Test splitting\n",
    "reviews_train, reviews_test = train_test_split(train_data, test_size=0.2, random_state=0)"
   ]
  },
  {
   "cell_type": "code",
   "execution_count": 22,
   "id": "a63c3e67",
   "metadata": {},
   "outputs": [
    {
     "name": "stderr",
     "output_type": "stream",
     "text": [
      "/Users/lubnaalhejali/opt/anaconda3/lib/python3.9/site-packages/sklearn/feature_extraction/text.py:396: UserWarning: Your stop_words may be inconsistent with your preprocessing. Tokenizing the stop words generated tokens [\"'d\", \"'ll\", \"'re\", \"'s\", \"'ve\", 'could', 'might', 'must', \"n't\", 'need', 'sha', 'wo', 'would'] not in stop_words.\n",
      "  warnings.warn(\n"
     ]
    }
   ],
   "source": [
    "#Creation of encoding related to train dataset\n",
    "X_train_bow = bow_counts.fit_transform(reviews_train.lower)\n",
    "#Transformation of test dataset with train encoding\n",
    "X_test_bow = bow_counts.transform(reviews_test.lower)"
   ]
  },
  {
   "cell_type": "code",
   "execution_count": 23,
   "id": "e15a6c6a",
   "metadata": {},
   "outputs": [
    {
     "data": {
      "text/plain": [
       "<14937x28993 sparse matrix of type '<class 'numpy.int64'>'\n",
       "\twith 161222 stored elements in Compressed Sparse Row format>"
      ]
     },
     "execution_count": 23,
     "metadata": {},
     "output_type": "execute_result"
    }
   ],
   "source": [
    "X_test_bow"
   ]
  },
  {
   "cell_type": "code",
   "execution_count": 24,
   "id": "83ba1d35",
   "metadata": {},
   "outputs": [],
   "source": [
    "#Labels for train and test encoding\n",
    "y_train_bow = reviews_train['suitable_for_kids']\n",
    "y_test_bow = reviews_test['suitable_for_kids']"
   ]
  },
  {
   "cell_type": "code",
   "execution_count": 25,
   "id": "2815e523",
   "metadata": {},
   "outputs": [
    {
     "data": {
      "text/plain": [
       "True     0.981924\n",
       "False    0.018076\n",
       "Name: suitable_for_kids, dtype: float64"
      ]
     },
     "execution_count": 25,
     "metadata": {},
     "output_type": "execute_result"
    }
   ],
   "source": [
    "#Total of registers per category\n",
    "y_test_bow.value_counts() / y_test_bow.shape[0]"
   ]
  },
  {
   "cell_type": "markdown",
   "id": "a0ec5026",
   "metadata": {},
   "source": [
    "## Logistic regression"
   ]
  },
  {
   "cell_type": "code",
   "execution_count": 26,
   "id": "682756e7",
   "metadata": {},
   "outputs": [
    {
     "name": "stdout",
     "output_type": "stream",
     "text": [
      "Accuracy:  99.8661043047466\n"
     ]
    }
   ],
   "source": [
    "model1 = LogisticRegression(C=1, solver=\"liblinear\",max_iter=200)\n",
    "model1.fit(X_train_bow, y_train_bow)\n",
    "# Prediction\n",
    "test_pred = model1.predict(X_test_bow)\n",
    "print(\"Accuracy: \", accuracy_score(y_test_bow, test_pred) * 100)"
   ]
  },
  {
   "cell_type": "markdown",
   "id": "0498b966",
   "metadata": {},
   "source": [
    "### Validation data"
   ]
  },
  {
   "cell_type": "code",
   "execution_count": 27,
   "id": "3b4d6018",
   "metadata": {},
   "outputs": [],
   "source": [
    "X_val_bow = bow_counts.transform(val_data.lower)\n",
    "y_val_bow = val_data['suitable_for_kids']"
   ]
  },
  {
   "cell_type": "code",
   "execution_count": 28,
   "id": "8cdfab4e",
   "metadata": {},
   "outputs": [
    {
     "data": {
      "text/plain": [
       "<1000x28993 sparse matrix of type '<class 'numpy.int64'>'\n",
       "\twith 12913 stored elements in Compressed Sparse Row format>"
      ]
     },
     "execution_count": 28,
     "metadata": {},
     "output_type": "execute_result"
    }
   ],
   "source": [
    "X_val_bow"
   ]
  },
  {
   "cell_type": "code",
   "execution_count": 29,
   "id": "1472f849",
   "metadata": {},
   "outputs": [
    {
     "name": "stdout",
     "output_type": "stream",
     "text": [
      "Accuracy:  99.9\n"
     ]
    }
   ],
   "source": [
    "Val_res = model1.predict(X_val_bow)\n",
    "print(\"Accuracy: \", accuracy_score(y_val_bow, Val_res) * 100)"
   ]
  },
  {
   "cell_type": "code",
   "execution_count": 30,
   "id": "122c11b5",
   "metadata": {},
   "outputs": [],
   "source": [
    "#n-gram of 4 words\n",
    "bow_counts = CountVectorizer(\n",
    "    tokenizer=word_tokenize,\n",
    "    ngram_range=(1,4)\n",
    ")\n",
    "#Data labeling\n",
    "X_train_bow = bow_counts.fit_transform(reviews_train.lower)\n",
    "X_test_bow = bow_counts.transform(reviews_test.lower)\n",
    "X_val_bow = bow_counts.transform(val_data.lower)"
   ]
  },
  {
   "cell_type": "code",
   "execution_count": 31,
   "id": "640d4b73",
   "metadata": {},
   "outputs": [
    {
     "data": {
      "text/plain": [
       "<59745x1427378 sparse matrix of type '<class 'numpy.int64'>'\n",
       "\twith 4142213 stored elements in Compressed Sparse Row format>"
      ]
     },
     "execution_count": 31,
     "metadata": {},
     "output_type": "execute_result"
    }
   ],
   "source": [
    "X_train_bow"
   ]
  },
  {
   "cell_type": "code",
   "execution_count": 32,
   "id": "4ede6924",
   "metadata": {},
   "outputs": [
    {
     "name": "stdout",
     "output_type": "stream",
     "text": [
      "Accuracy:  99.75229296378122\n"
     ]
    }
   ],
   "source": [
    "model2 = LogisticRegression(C=0.9, solver=\"liblinear\",max_iter=1500)\n",
    "# Logistic regression\n",
    "model2.fit(X_train_bow, y_train_bow)\n",
    "# Prediction\n",
    "test_pred_2 = model2.predict(X_test_bow)\n",
    "print(\"Accuracy: \", accuracy_score(y_test_bow, test_pred_2) * 100)"
   ]
  },
  {
   "cell_type": "code",
   "execution_count": 33,
   "id": "e478f195",
   "metadata": {},
   "outputs": [
    {
     "name": "stdout",
     "output_type": "stream",
     "text": [
      "Accuracy:  100.0\n"
     ]
    }
   ],
   "source": [
    "y_val_bow = val_data['suitable_for_kids']\n",
    "Val_pred_2 = model2.predict(X_val_bow)\n",
    "print(\"Accuracy: \", accuracy_score(y_val_bow, Val_pred_2) * 100)"
   ]
  }
 ],
 "metadata": {
  "kernelspec": {
   "display_name": "Python 3 (ipykernel)",
   "language": "python",
   "name": "python3"
  },
  "language_info": {
   "codemirror_mode": {
    "name": "ipython",
    "version": 3
   },
   "file_extension": ".py",
   "mimetype": "text/x-python",
   "name": "python",
   "nbconvert_exporter": "python",
   "pygments_lexer": "ipython3",
   "version": "3.9.12"
  }
 },
 "nbformat": 4,
 "nbformat_minor": 5
}
